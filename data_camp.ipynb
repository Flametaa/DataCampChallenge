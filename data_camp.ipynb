{
  "nbformat": 4,
  "nbformat_minor": 0,
  "metadata": {
    "kernelspec": {
      "display_name": "Python 3",
      "language": "python",
      "name": "python3"
    },
    "language_info": {
      "codemirror_mode": {
        "name": "ipython",
        "version": 3
      },
      "file_extension": ".py",
      "mimetype": "text/x-python",
      "name": "python",
      "nbconvert_exporter": "python",
      "pygments_lexer": "ipython3",
      "version": "3.8.3"
    },
    "colab": {
      "name": "data_camp.ipynb",
      "provenance": []
    }
  },
  "cells": [
    {
      "cell_type": "markdown",
      "metadata": {
        "id": "w2r7KHFEIrm6"
      },
      "source": [
        "# Auto inssurance "
      ]
    },
    {
      "cell_type": "code",
      "metadata": {
        "id": "jICXBpsOIrm_"
      },
      "source": [
        "%matplotlib inline \n",
        "import numpy as np \n",
        "import pandas as pd \n",
        "import matplotlib.pyplot as plt \n",
        "import seaborn as sns \n",
        "from collections import Counter\n",
        "from scipy import interpolate"
      ],
      "execution_count": null,
      "outputs": []
    },
    {
      "cell_type": "code",
      "metadata": {
        "colab": {
          "base_uri": "https://localhost:8080/"
        },
        "id": "QqNhWxY0Irm_",
        "outputId": "10b0d006-314b-453d-928d-ee07baf633e8"
      },
      "source": [
        "df = pd.read_excel('https://query.data.world/s/yg4pp7vm5dhoj6pj4xjm43gcg73ujq',header=3)\n",
        "df.drop(columns=['Timestamp','PostalCode', 'Counter', 'CompanyEmployeesOverall', 'PopulationOfLargestCityWithin20Miles'], inplace=True)\n",
        "df['SalaryUSD'] = list(map(float, [str(ch).replace(\" \", \"\").replace(\",\", \".\") for ch in list(df.SalaryUSD)]))\n",
        "df.columns"
      ],
      "execution_count": null,
      "outputs": [
        {
          "output_type": "execute_result",
          "data": {
            "text/plain": [
              "Index(['Survey Year', 'SalaryUSD', 'Country', 'PrimaryDatabase',\n",
              "       'YearsWithThisDatabase', 'OtherDatabases', 'EmploymentStatus',\n",
              "       'JobTitle', 'ManageStaff', 'YearsWithThisTypeOfJob', 'HowManyCompanies',\n",
              "       'OtherPeopleOnYourTeam', 'DatabaseServers', 'Education',\n",
              "       'EducationIsComputerRelated', 'Certifications', 'HoursWorkedPerWeek',\n",
              "       'TelecommuteDaysPerWeek', 'EmploymentSector', 'LookingForAnotherJob',\n",
              "       'CareerPlansThisYear', 'Gender', 'OtherJobDuties',\n",
              "       'KindsOfTasksPerformed'],\n",
              "      dtype='object')"
            ]
          },
          "metadata": {
            "tags": []
          },
          "execution_count": 2
        }
      ]
    },
    {
      "cell_type": "code",
      "metadata": {
        "colab": {
          "base_uri": "https://localhost:8080/",
          "height": 264
        },
        "id": "LGeWiVTmIrnA",
        "outputId": "9b39ad33-8e51-45db-9993-cfb420997bdb"
      },
      "source": [
        "df.head(3)"
      ],
      "execution_count": null,
      "outputs": [
        {
          "output_type": "execute_result",
          "data": {
            "text/html": [
              "<div>\n",
              "<style scoped>\n",
              "    .dataframe tbody tr th:only-of-type {\n",
              "        vertical-align: middle;\n",
              "    }\n",
              "\n",
              "    .dataframe tbody tr th {\n",
              "        vertical-align: top;\n",
              "    }\n",
              "\n",
              "    .dataframe thead th {\n",
              "        text-align: right;\n",
              "    }\n",
              "</style>\n",
              "<table border=\"1\" class=\"dataframe\">\n",
              "  <thead>\n",
              "    <tr style=\"text-align: right;\">\n",
              "      <th></th>\n",
              "      <th>Survey Year</th>\n",
              "      <th>SalaryUSD</th>\n",
              "      <th>Country</th>\n",
              "      <th>PrimaryDatabase</th>\n",
              "      <th>YearsWithThisDatabase</th>\n",
              "      <th>OtherDatabases</th>\n",
              "      <th>EmploymentStatus</th>\n",
              "      <th>JobTitle</th>\n",
              "      <th>ManageStaff</th>\n",
              "      <th>YearsWithThisTypeOfJob</th>\n",
              "      <th>HowManyCompanies</th>\n",
              "      <th>OtherPeopleOnYourTeam</th>\n",
              "      <th>DatabaseServers</th>\n",
              "      <th>Education</th>\n",
              "      <th>EducationIsComputerRelated</th>\n",
              "      <th>Certifications</th>\n",
              "      <th>HoursWorkedPerWeek</th>\n",
              "      <th>TelecommuteDaysPerWeek</th>\n",
              "      <th>EmploymentSector</th>\n",
              "      <th>LookingForAnotherJob</th>\n",
              "      <th>CareerPlansThisYear</th>\n",
              "      <th>Gender</th>\n",
              "      <th>OtherJobDuties</th>\n",
              "      <th>KindsOfTasksPerformed</th>\n",
              "    </tr>\n",
              "  </thead>\n",
              "  <tbody>\n",
              "    <tr>\n",
              "      <th>0</th>\n",
              "      <td>2017</td>\n",
              "      <td>200000.0</td>\n",
              "      <td>United States</td>\n",
              "      <td>Microsoft SQL Server</td>\n",
              "      <td>10</td>\n",
              "      <td>MySQL/MariaDB</td>\n",
              "      <td>Full time employee</td>\n",
              "      <td>DBA</td>\n",
              "      <td>No</td>\n",
              "      <td>5</td>\n",
              "      <td>Not Asked</td>\n",
              "      <td>2</td>\n",
              "      <td>350</td>\n",
              "      <td>Masters</td>\n",
              "      <td>No</td>\n",
              "      <td>Yes, and they're currently valid</td>\n",
              "      <td>45</td>\n",
              "      <td>1</td>\n",
              "      <td>Private business</td>\n",
              "      <td>Yes, but only passively (just curious)</td>\n",
              "      <td>Not Asked</td>\n",
              "      <td>Not Asked</td>\n",
              "      <td>Not Asked</td>\n",
              "      <td>Not Asked</td>\n",
              "    </tr>\n",
              "    <tr>\n",
              "      <th>1</th>\n",
              "      <td>2017</td>\n",
              "      <td>61515.0</td>\n",
              "      <td>United Kingdom</td>\n",
              "      <td>Microsoft SQL Server</td>\n",
              "      <td>15</td>\n",
              "      <td>Oracle, PostgreSQL</td>\n",
              "      <td>Full time employee</td>\n",
              "      <td>DBA</td>\n",
              "      <td>No</td>\n",
              "      <td>3</td>\n",
              "      <td>Not Asked</td>\n",
              "      <td>1</td>\n",
              "      <td>40</td>\n",
              "      <td>None (no degree completed)</td>\n",
              "      <td>NaN</td>\n",
              "      <td>No, I never have</td>\n",
              "      <td>35</td>\n",
              "      <td>2</td>\n",
              "      <td>Private business</td>\n",
              "      <td>No</td>\n",
              "      <td>Not Asked</td>\n",
              "      <td>Not Asked</td>\n",
              "      <td>Not Asked</td>\n",
              "      <td>Not Asked</td>\n",
              "    </tr>\n",
              "    <tr>\n",
              "      <th>2</th>\n",
              "      <td>2017</td>\n",
              "      <td>95000.0</td>\n",
              "      <td>Germany</td>\n",
              "      <td>Microsoft SQL Server</td>\n",
              "      <td>5</td>\n",
              "      <td>Oracle, MySQL/MariaDB, Informix</td>\n",
              "      <td>Full time employee</td>\n",
              "      <td>Other</td>\n",
              "      <td>Yes</td>\n",
              "      <td>25</td>\n",
              "      <td>Not Asked</td>\n",
              "      <td>2</td>\n",
              "      <td>100</td>\n",
              "      <td>Masters</td>\n",
              "      <td>Yes</td>\n",
              "      <td>Yes, but they expired</td>\n",
              "      <td>45</td>\n",
              "      <td>None, or less than 1 day per week</td>\n",
              "      <td>Private business</td>\n",
              "      <td>Yes, but only passively (just curious)</td>\n",
              "      <td>Not Asked</td>\n",
              "      <td>Not Asked</td>\n",
              "      <td>Not Asked</td>\n",
              "      <td>Not Asked</td>\n",
              "    </tr>\n",
              "  </tbody>\n",
              "</table>\n",
              "</div>"
            ],
            "text/plain": [
              "   Survey Year  SalaryUSD  ... OtherJobDuties KindsOfTasksPerformed\n",
              "0         2017   200000.0  ...      Not Asked             Not Asked\n",
              "1         2017    61515.0  ...      Not Asked             Not Asked\n",
              "2         2017    95000.0  ...      Not Asked             Not Asked\n",
              "\n",
              "[3 rows x 24 columns]"
            ]
          },
          "metadata": {
            "tags": []
          },
          "execution_count": 3
        }
      ]
    },
    {
      "cell_type": "code",
      "metadata": {
        "id": "a-4B9XIvJXtN"
      },
      "source": [
        "df.loc[:,'OtherJobDuties']=df.loc[:,'OtherJobDuties'].fillna('Unkown')"
      ],
      "execution_count": null,
      "outputs": []
    },
    {
      "cell_type": "code",
      "metadata": {
        "id": "WKOwM5IIIrnB"
      },
      "source": [
        "def get_elements(key): \r\n",
        "  L = key.split(\",\")\r\n",
        "  Result = []\r\n",
        "  i = 0 \r\n",
        "  while i < len(L):\r\n",
        "    word = L[i]\r\n",
        "    if word.find(\"(\") != -1: \r\n",
        "      while word.find(\")\") == -1 : \r\n",
        "        i += 1 \r\n",
        "        word = word +\",\"+ L[i]\r\n",
        "    i += 1\r\n",
        "    Result.append(word) \r\n",
        "  return Result\r\n",
        "\r\n",
        "def get_elts_count(X, col): \r\n",
        "  elts_counter = Counter(X[col])\r\n",
        "  elts_pairs = {}\r\n",
        "  for key, value in elts_counter.items():\r\n",
        "    if type(key) != str:\r\n",
        "      continue\r\n",
        "    elts = get_elements(key)\r\n",
        "    for elt in elts:\r\n",
        "      if elt not in elts_pairs.keys(): \r\n",
        "        elts_pairs[elt] = value\r\n",
        "      else:\r\n",
        "        elts_pairs[elt] += value \r\n",
        "  return elts_pairs"
      ],
      "execution_count": null,
      "outputs": []
    },
    {
      "cell_type": "code",
      "metadata": {
        "id": "rj04moGjJLYS"
      },
      "source": [
        "job_duties_counter = Counter(df.OtherJobDuties)\r\n",
        "job_duties_pairs = {}\r\n",
        "\r\n",
        "for key, value in job_duties_counter.items():\r\n",
        "  duties = get_elements(key)\r\n",
        "  for dutie in duties:\r\n",
        "    if dutie not in job_duties_pairs.keys(): \r\n",
        "      job_duties_pairs[dutie] = [value]\r\n",
        "    else:\r\n",
        "      job_duties_pairs[dutie][0] += value "
      ],
      "execution_count": null,
      "outputs": []
    },
    {
      "cell_type": "code",
      "metadata": {
        "id": "VUUZBwRaL6P3"
      },
      "source": [
        "df.loc[:,'KindsOfTasksPerformed'] = df.loc[:,'KindsOfTasksPerformed'].fillna('Unkown')\r\n",
        "L = get_elts_count(df, \"KindsOfTasksPerformed\")\r\n",
        "L = [(key,value) for key, value  in L.items()]\r\n",
        "L =  sorted(L, key=lambda tup: tup[1], reverse= True)"
      ],
      "execution_count": null,
      "outputs": []
    },
    {
      "cell_type": "code",
      "metadata": {
        "id": "FRYQa1UCKJ3b"
      },
      "source": [
        "def get_dummy_jobs(X_df, num): # Here X_df is composed of a single column\r\n",
        "  feature_array = np.zeros((len(X_df.index), num))\r\n",
        "  col_name = X_df.columns[0]\r\n",
        "  elts_pairs  = get_elts_count(X_df, col_name)\r\n",
        "  elts_pairs = [(key,value) for key, value  in elts_pairs.items()]\r\n",
        "  elts_pairs =  sorted(elts_pairs, key=lambda tup: tup[1], reverse= True)\r\n",
        "  elts_kept = [pair[0]  for pair in elts_pairs[:num] ]\r\n",
        "  X_df = X_df[col_name]\r\n",
        "  indexes = list(X_df.index.values)\r\n",
        " \r\n",
        "  for p in range(len(X_df)):\r\n",
        "    i = indexes[p]\r\n",
        "    if (type(X_df[i]) != str):\r\n",
        "      for  j in range(len(elts_kept)):\r\n",
        "        feature_array[p][j] = np.nan\r\n",
        "      continue\r\n",
        "    elts = get_elements(X_df[i])\r\n",
        "    for  j in range(len(elts_kept)): \r\n",
        "      if elts_kept[j] in elts : \r\n",
        "        feature_array[p][j] = 1 \r\n",
        "  return feature_array"
      ],
      "execution_count": null,
      "outputs": []
    },
    {
      "cell_type": "code",
      "metadata": {
        "colab": {
          "base_uri": "https://localhost:8080/"
        },
        "id": "aq5z-LLeJW0d",
        "outputId": "72506b6e-bcc5-42c3-c486-15b4906d0ed4"
      },
      "source": [
        "from sklearn.preprocessing import FunctionTransformer\r\n",
        "import numpy as np\r\n",
        "\r\n",
        "from sklearn.preprocessing import FunctionTransformer\r\n",
        "from sklearn.compose import make_column_transformer\r\n",
        "from sklearn.pipeline import make_pipeline\r\n",
        "from sklearn.ensemble import RandomForestClassifier\r\n",
        "from sklearn.impute import SimpleImputer\r\n",
        "\r\n",
        "transformer_dummy_jobs = FunctionTransformer(\r\n",
        "    lambda X_df: get_dummy_jobs(X_df, 1)\r\n",
        ")\r\n",
        "\r\n",
        "\r\n",
        "transformer = make_column_transformer(\r\n",
        "    (transformer_dummy_jobs, ['OtherJobDuties']),\r\n",
        "    (transformer_dummy_jobs, ['KindsOfTasksPerformed']),\r\n",
        ")\r\n",
        "df.loc[:,'KindsOfTasksPerformed']=df.loc[:,'KindsOfTasksPerformed'].fillna('Unkown')\r\n",
        "df.loc[:,'OtherJobDuties']=df.loc[:,'OtherJobDuties'].fillna('Unkown')\r\n",
        "X_array = transformer.fit_transform(df)\r\n",
        "print(np.sum(X_array))\r\n",
        "X_array"
      ],
      "execution_count": null,
      "outputs": [
        {
          "output_type": "stream",
          "text": [
            "get_dummy_jobs start\n",
            "done\n",
            "get_dummy_jobs start\n",
            "done\n",
            "5927.0\n"
          ],
          "name": "stdout"
        },
        {
          "output_type": "execute_result",
          "data": {
            "text/plain": [
              "array([[1., 0.],\n",
              "       [1., 0.],\n",
              "       [1., 0.],\n",
              "       ...,\n",
              "       [0., 0.],\n",
              "       [0., 1.],\n",
              "       [0., 0.]])"
            ]
          },
          "metadata": {
            "tags": []
          },
          "execution_count": 9
        }
      ]
    },
    {
      "cell_type": "code",
      "metadata": {
        "id": "pI5x2cB3ehvJ"
      },
      "source": [
        "def get_top_jobs(X_df, num): # Here X_df is composed of a single column\r\n",
        "  feature_array = np.zeros((len(X_df), num))\r\n",
        "  col_name = X_df.columns[0]\r\n",
        "  elts_pairs = Counter(X_df[col_name])\r\n",
        "  elts_pairs = [(key,value) for key, value  in elts_pairs.items()]\r\n",
        "  elts_pairs =  sorted(elts_pairs, key=lambda tup: tup[1], reverse= True)\r\n",
        "  elts_kept = [pair[0]  for pair in elts_pairs[:num - 1] ]\r\n",
        "  if 'Other' in elts_kept: \r\n",
        "    elts_kept.append(elts_pairs[num][0])\r\n",
        "  else : \r\n",
        "    elts_kept.append('Other')\r\n",
        "  Other_index = elts_kept.index('Other')\r\n",
        "  X_df = X_df[col_name]\r\n",
        "  indexes = list(X_df.index.values)\r\n",
        " \r\n",
        "  for p in range(len(X_df)):\r\n",
        "    i = indexes[p]\r\n",
        "    if (type(X_df[i]) != str):\r\n",
        "      for  j in range(len(elts_kept)):\r\n",
        "        feature_array[p][j] = np.nan\r\n",
        "      continue\r\n",
        "    elt = X_df[i]\r\n",
        "    if  elt in elts_kept:\r\n",
        "      for j in range(num): \r\n",
        "        if elt == elts_kept[j]: \r\n",
        "          feature_array[p][j] = 1\r\n",
        "          break\r\n",
        "    else: \r\n",
        "      feature_array[p][num-1] = 1\r\n",
        "  return feature_array"
      ],
      "execution_count": null,
      "outputs": []
    },
    {
      "cell_type": "code",
      "metadata": {
        "colab": {
          "base_uri": "https://localhost:8080/"
        },
        "id": "G6LD72V8ff7i",
        "outputId": "1d3f7294-daa7-4024-c0e4-342166eedb84"
      },
      "source": [
        "from sklearn.preprocessing import FunctionTransformer\r\n",
        "import numpy as np\r\n",
        "\r\n",
        "from sklearn.preprocessing import FunctionTransformer\r\n",
        "from sklearn.compose import make_column_transformer\r\n",
        "from sklearn.pipeline import make_pipeline\r\n",
        "from sklearn.ensemble import RandomForestClassifier\r\n",
        "from sklearn.impute import SimpleImputer\r\n",
        "\r\n",
        "transformer_JobTitle = FunctionTransformer(\r\n",
        "    lambda X_df: get_top_jobs(X_df, 1)\r\n",
        ")\r\n",
        "\r\n",
        "transformer = make_column_transformer(\r\n",
        "    (transformer_JobTitle, ['JobTitle']),\r\n",
        ")\r\n",
        "df.loc[:,'JobTitle']=df.loc[:,'JobTitle'].fillna('Other')\r\n",
        "X_array = transformer.fit_transform(df)\r\n",
        "print(np.sum(X_array))\r\n",
        "X_array"
      ],
      "execution_count": null,
      "outputs": [
        {
          "output_type": "stream",
          "text": [
            "get_job_dummy start\n",
            "done\n",
            "6893.0\n"
          ],
          "name": "stdout"
        },
        {
          "output_type": "execute_result",
          "data": {
            "text/plain": [
              "array([[1.],\n",
              "       [1.],\n",
              "       [1.],\n",
              "       ...,\n",
              "       [1.],\n",
              "       [1.],\n",
              "       [1.]])"
            ]
          },
          "metadata": {
            "tags": []
          },
          "execution_count": 11
        }
      ]
    },
    {
      "cell_type": "code",
      "metadata": {
        "colab": {
          "base_uri": "https://localhost:8080/"
        },
        "id": "sEJikPhdsAeK",
        "outputId": "b356f24f-333f-4bd3-e8d2-e93d436a53bf"
      },
      "source": [
        "C = Counter(df.CareerPlansThisYear)\r\n",
        "[key for key in C.keys()]"
      ],
      "execution_count": null,
      "outputs": [
        {
          "output_type": "execute_result",
          "data": {
            "text/plain": [
              "['Not Asked',\n",
              " 'Stay with the same employer, same role',\n",
              " 'Prefer not to say',\n",
              " 'Stay with the same employer,  but change roles',\n",
              " 'Change both employers and roles',\n",
              " 'Stay with the same role, but change employers']"
            ]
          },
          "metadata": {
            "tags": []
          },
          "execution_count": 61
        }
      ]
    },
    {
      "cell_type": "code",
      "metadata": {
        "id": "qYq-9dK4iLdv"
      },
      "source": [
        "def encode_career(X_df): \r\n",
        "  col_name = X_df.columns[0]\r\n",
        "  counter = Counter(X_df[col_name])\r\n",
        "  counter = [key for key in counter.keys()]\r\n",
        "  feature_array = np.zeros((len(X_df), len(counter)))\r\n",
        "  X_df = X_df[col_name]\r\n",
        "  indexes = list(X_df.index.values)\r\n",
        "\r\n",
        "  for p in range(len(X_df)):\r\n",
        "    i = indexes[p]\r\n",
        "    if (type(X_df[i]) != str):\r\n",
        "      for  j in range(len(counter)):\r\n",
        "        feature_array[p][j] = np.nan\r\n",
        "      continue\r\n",
        "    j = counter.index(X_df[i])\r\n",
        "    feature_array[p][j] = 1\r\n",
        "  return feature_array"
      ],
      "execution_count": null,
      "outputs": []
    },
    {
      "cell_type": "code",
      "metadata": {
        "id": "gJ3ThO_oh0Qx",
        "colab": {
          "base_uri": "https://localhost:8080/"
        },
        "outputId": "78141a3b-2244-4801-d7ba-7d5e6980e8d1"
      },
      "source": [
        "from sklearn.model_selection import train_test_split\r\n",
        "from sklearn.ensemble import RandomForestRegressor\r\n",
        "from sklearn.metrics import mean_squared_error\r\n",
        "from sklearn.impute import SimpleImputer\r\n",
        "from sklearn.compose import make_column_transformer\r\n",
        "from sklearn.compose import ColumnTransformer\r\n",
        "from sklearn.pipeline import Pipeline\r\n",
        "from sklearn.preprocessing import StandardScaler, OneHotEncoder, OrdinalEncoder, FunctionTransformer\r\n",
        "\r\n",
        "\r\n",
        "job_transformer = Pipeline(steps=[\r\n",
        "    ('transform', transformer_dummy_jobs),\r\n",
        "    ('imputer', SimpleImputer(strategy= 'most_frequent'))])\r\n",
        "\r\n",
        "\r\n",
        "jobTitle_transfomer = Pipeline(steps=[\r\n",
        "    ('transform', transformer_JobTitle),\r\n",
        "    ('imputer', SimpleImputer(strategy= 'most_frequent'))])\r\n",
        "\r\n",
        "check = FunctionTransformer(\r\n",
        "    lambda X: print(\"Start One hot encoder\")\r\n",
        ")\r\n",
        "\r\n",
        "carreer_transformer = Pipeline(steps=[\r\n",
        "    ('one_hot_encoder', OneHotEncoder()),\r\n",
        "    ('imputer', SimpleImputer(strategy= 'most_frequent')),          \r\n",
        "])\r\n",
        "\r\n",
        "preprocessor = ColumnTransformer(\r\n",
        "    transformers=[\r\n",
        "        ('0', job_transformer, ['OtherJobDuties']),\r\n",
        "        ('1', job_transformer, ['KindsOfTasksPerformed']),\r\n",
        "        ('2', jobTitle_transfomer, ['JobTitle']),\r\n",
        "        ('3', carreer_transformer, ['CareerPlansThisYear']),\r\n",
        "    ])\r\n",
        "\r\n",
        "pipe = make_pipeline(\r\n",
        "    preprocessor,\r\n",
        "    RandomForestRegressor(max_depth=5, n_estimators=10000, criterion= 'mse', n_jobs= -1)\r\n",
        ")\r\n",
        "df = pd.read_excel('https://query.data.world/s/yg4pp7vm5dhoj6pj4xjm43gcg73ujq',header=3)\r\n",
        "df.drop(columns=['Timestamp','PostalCode', 'Counter', 'CompanyEmployeesOverall', 'PopulationOfLargestCityWithin20Miles'], inplace=True)\r\n",
        "y = list(map(float, [str(ch).replace(\" \", \"\").replace(\",\", \".\") for ch in list(df.SalaryUSD)]))\r\n",
        "X = df.drop(columns= \"SalaryUSD\")\r\n",
        "X = X[[\"JobTitle\", \"OtherJobDuties\", \"KindsOfTasksPerformed\", \"CareerPlansThisYear\"]]\r\n",
        "X_train, X_test, y_train, y_test = train_test_split(X, y, test_size=0.2, random_state=42)\r\n",
        "\r\n",
        "clf = pipe.fit(X_train, y_train)\r\n",
        "y_pred = clf.predict(X_test)\r\n",
        "mean_squared_error(y_test, y_pred)"
      ],
      "execution_count": null,
      "outputs": [
        {
          "output_type": "stream",
          "text": [
            "get_dummy_jobs start\n",
            "done\n",
            "get_dummy_jobs start\n",
            "done\n",
            "get_job_dummy start\n",
            "done\n",
            "get_dummy_jobs start\n",
            "done\n",
            "get_dummy_jobs start\n",
            "done\n",
            "get_job_dummy start\n",
            "done\n"
          ],
          "name": "stdout"
        },
        {
          "output_type": "execute_result",
          "data": {
            "text/plain": [
              "2470046594.109731"
            ]
          },
          "metadata": {
            "tags": []
          },
          "execution_count": 72
        }
      ]
    },
    {
      "cell_type": "code",
      "metadata": {
        "colab": {
          "base_uri": "https://localhost:8080/"
        },
        "id": "rRiouP_ClT80",
        "outputId": "34294835-4ec6-41c3-99ec-5c834f6a77fe"
      },
      "source": [
        "Counter(X.CareerPlansThisYear)"
      ],
      "execution_count": null,
      "outputs": [
        {
          "output_type": "execute_result",
          "data": {
            "text/plain": [
              "Counter({'Change both employers and roles': 294,\n",
              "         'Not Asked': 2898,\n",
              "         'Prefer not to say': 347,\n",
              "         'Stay with the same employer,  but change roles': 485,\n",
              "         'Stay with the same employer, same role': 2398,\n",
              "         'Stay with the same role, but change employers': 471})"
            ]
          },
          "metadata": {
            "tags": []
          },
          "execution_count": 73
        }
      ]
    },
    {
      "cell_type": "code",
      "metadata": {
        "colab": {
          "base_uri": "https://localhost:8080/",
          "height": 521
        },
        "id": "xRY37-FUkqTM",
        "outputId": "b756d9e1-3d89-40eb-df4d-baabb31eb3d9"
      },
      "source": [
        "y_set = clf.predict(X_train)\r\n",
        "Val = pd.DataFrame()\r\n",
        "Val[\"y_train\"] = y_train\r\n",
        "Val[\"y_pred\"] = y_set\r\n",
        "Val"
      ],
      "execution_count": null,
      "outputs": [
        {
          "output_type": "stream",
          "text": [
            "get_dummy_jobs start\n",
            "done\n",
            "get_dummy_jobs start\n",
            "done\n",
            "get_job_dummy start\n",
            "done\n"
          ],
          "name": "stdout"
        },
        {
          "output_type": "execute_result",
          "data": {
            "text/html": [
              "<div>\n",
              "<style scoped>\n",
              "    .dataframe tbody tr th:only-of-type {\n",
              "        vertical-align: middle;\n",
              "    }\n",
              "\n",
              "    .dataframe tbody tr th {\n",
              "        vertical-align: top;\n",
              "    }\n",
              "\n",
              "    .dataframe thead th {\n",
              "        text-align: right;\n",
              "    }\n",
              "</style>\n",
              "<table border=\"1\" class=\"dataframe\">\n",
              "  <thead>\n",
              "    <tr style=\"text-align: right;\">\n",
              "      <th></th>\n",
              "      <th>y_train</th>\n",
              "      <th>y_pred</th>\n",
              "    </tr>\n",
              "  </thead>\n",
              "  <tbody>\n",
              "    <tr>\n",
              "      <th>0</th>\n",
              "      <td>55000.0</td>\n",
              "      <td>94528.518668</td>\n",
              "    </tr>\n",
              "    <tr>\n",
              "      <th>1</th>\n",
              "      <td>77000.0</td>\n",
              "      <td>94528.518668</td>\n",
              "    </tr>\n",
              "    <tr>\n",
              "      <th>2</th>\n",
              "      <td>116340.0</td>\n",
              "      <td>94014.059552</td>\n",
              "    </tr>\n",
              "    <tr>\n",
              "      <th>3</th>\n",
              "      <td>29200.0</td>\n",
              "      <td>94528.518668</td>\n",
              "    </tr>\n",
              "    <tr>\n",
              "      <th>4</th>\n",
              "      <td>182000.0</td>\n",
              "      <td>94528.518668</td>\n",
              "    </tr>\n",
              "    <tr>\n",
              "      <th>...</th>\n",
              "      <td>...</td>\n",
              "      <td>...</td>\n",
              "    </tr>\n",
              "    <tr>\n",
              "      <th>5509</th>\n",
              "      <td>700.0</td>\n",
              "      <td>94014.059552</td>\n",
              "    </tr>\n",
              "    <tr>\n",
              "      <th>5510</th>\n",
              "      <td>38000.0</td>\n",
              "      <td>94014.059552</td>\n",
              "    </tr>\n",
              "    <tr>\n",
              "      <th>5511</th>\n",
              "      <td>66000.0</td>\n",
              "      <td>94014.059552</td>\n",
              "    </tr>\n",
              "    <tr>\n",
              "      <th>5512</th>\n",
              "      <td>110000.0</td>\n",
              "      <td>94528.518668</td>\n",
              "    </tr>\n",
              "    <tr>\n",
              "      <th>5513</th>\n",
              "      <td>74000.0</td>\n",
              "      <td>90111.482420</td>\n",
              "    </tr>\n",
              "  </tbody>\n",
              "</table>\n",
              "<p>5514 rows × 2 columns</p>\n",
              "</div>"
            ],
            "text/plain": [
              "       y_train        y_pred\n",
              "0      55000.0  94528.518668\n",
              "1      77000.0  94528.518668\n",
              "2     116340.0  94014.059552\n",
              "3      29200.0  94528.518668\n",
              "4     182000.0  94528.518668\n",
              "...        ...           ...\n",
              "5509     700.0  94014.059552\n",
              "5510   38000.0  94014.059552\n",
              "5511   66000.0  94014.059552\n",
              "5512  110000.0  94528.518668\n",
              "5513   74000.0  90111.482420\n",
              "\n",
              "[5514 rows x 2 columns]"
            ]
          },
          "metadata": {
            "tags": []
          },
          "execution_count": 39
        }
      ]
    },
    {
      "cell_type": "code",
      "metadata": {
        "id": "ADpPOKoIlVsi"
      },
      "source": [
        "mean_squared_error(y_train, y_set)"
      ],
      "execution_count": null,
      "outputs": []
    },
    {
      "cell_type": "code",
      "metadata": {
        "id": "vJoFPpTmia45",
        "colab": {
          "base_uri": "https://localhost:8080/",
          "height": 419
        },
        "outputId": "41aeb11c-4174-4c04-cd5f-c9a623a23d26"
      },
      "source": [
        "Val = pd.DataFrame()\r\n",
        "Val[\"y_test\"] = y_test\r\n",
        "Val[\"y_pred\"] = y_pred\r\n",
        "Val"
      ],
      "execution_count": null,
      "outputs": [
        {
          "output_type": "execute_result",
          "data": {
            "text/html": [
              "<div>\n",
              "<style scoped>\n",
              "    .dataframe tbody tr th:only-of-type {\n",
              "        vertical-align: middle;\n",
              "    }\n",
              "\n",
              "    .dataframe tbody tr th {\n",
              "        vertical-align: top;\n",
              "    }\n",
              "\n",
              "    .dataframe thead th {\n",
              "        text-align: right;\n",
              "    }\n",
              "</style>\n",
              "<table border=\"1\" class=\"dataframe\">\n",
              "  <thead>\n",
              "    <tr style=\"text-align: right;\">\n",
              "      <th></th>\n",
              "      <th>y_test</th>\n",
              "      <th>y_pred</th>\n",
              "    </tr>\n",
              "  </thead>\n",
              "  <tbody>\n",
              "    <tr>\n",
              "      <th>0</th>\n",
              "      <td>79000.0</td>\n",
              "      <td>91309.595112</td>\n",
              "    </tr>\n",
              "    <tr>\n",
              "      <th>1</th>\n",
              "      <td>35000.0</td>\n",
              "      <td>94014.059552</td>\n",
              "    </tr>\n",
              "    <tr>\n",
              "      <th>2</th>\n",
              "      <td>40500.0</td>\n",
              "      <td>91309.595112</td>\n",
              "    </tr>\n",
              "    <tr>\n",
              "      <th>3</th>\n",
              "      <td>65000.0</td>\n",
              "      <td>91309.595112</td>\n",
              "    </tr>\n",
              "    <tr>\n",
              "      <th>4</th>\n",
              "      <td>100000.0</td>\n",
              "      <td>94014.059552</td>\n",
              "    </tr>\n",
              "    <tr>\n",
              "      <th>...</th>\n",
              "      <td>...</td>\n",
              "      <td>...</td>\n",
              "    </tr>\n",
              "    <tr>\n",
              "      <th>1374</th>\n",
              "      <td>107000.0</td>\n",
              "      <td>94014.059552</td>\n",
              "    </tr>\n",
              "    <tr>\n",
              "      <th>1375</th>\n",
              "      <td>20000.0</td>\n",
              "      <td>94014.059552</td>\n",
              "    </tr>\n",
              "    <tr>\n",
              "      <th>1376</th>\n",
              "      <td>75000.0</td>\n",
              "      <td>94014.059552</td>\n",
              "    </tr>\n",
              "    <tr>\n",
              "      <th>1377</th>\n",
              "      <td>107000.0</td>\n",
              "      <td>94014.059552</td>\n",
              "    </tr>\n",
              "    <tr>\n",
              "      <th>1378</th>\n",
              "      <td>105000.0</td>\n",
              "      <td>91309.595112</td>\n",
              "    </tr>\n",
              "  </tbody>\n",
              "</table>\n",
              "<p>1379 rows × 2 columns</p>\n",
              "</div>"
            ],
            "text/plain": [
              "        y_test        y_pred\n",
              "0      79000.0  91309.595112\n",
              "1      35000.0  94014.059552\n",
              "2      40500.0  91309.595112\n",
              "3      65000.0  91309.595112\n",
              "4     100000.0  94014.059552\n",
              "...        ...           ...\n",
              "1374  107000.0  94014.059552\n",
              "1375   20000.0  94014.059552\n",
              "1376   75000.0  94014.059552\n",
              "1377  107000.0  94014.059552\n",
              "1378  105000.0  91309.595112\n",
              "\n",
              "[1379 rows x 2 columns]"
            ]
          },
          "metadata": {
            "tags": []
          },
          "execution_count": 40
        }
      ]
    }
  ]
}